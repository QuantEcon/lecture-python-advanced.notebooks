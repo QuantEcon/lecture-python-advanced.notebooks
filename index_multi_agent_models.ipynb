{
 "cells": [
  {
   "cell_type": "markdown",
   "metadata": {},
   "source": [
    "\n",
    "<a id='multi-agent-models'></a>\n",
    "<div id=\"qe-notebook-header\" align=\"right\" style=\"text-align:right;\">\n",
    "        <a href=\"https://quantecon.org/\" title=\"quantecon.org\">\n",
    "                <img style=\"width:250px;display:inline;\" width=\"250px\" src=\"https://assets.quantecon.org/img/qe-menubar-logo.svg\" alt=\"QuantEcon\">\n",
    "        </a>\n",
    "</div>"
   ]
  },
  {
   "cell_type": "markdown",
   "metadata": {},
   "source": [
    "# Multiple Agent Models\n",
    "\n",
    "These lectures look at important economic models that also illustrate common\n",
    "equilibrium concepts."
   ]
  },
  {
   "cell_type": "markdown",
   "metadata": {},
   "source": [
    "## Lectures\n",
    "\n",
    "- [Robust Markov Perfect Equilibrium](https://python-programming.quantecon.org/rob_markov_perf.html)\n",
    "  - [Overview](https://python-programming.quantecon.org/rob_markov_perf.html#overview)\n",
    "  - [Linear Markov Perfect Equilibria with Robust Agents](https://python-programming.quantecon.org/rob_markov_perf.html#linear-markov-perfect-equilibria-with-robust-agents)\n",
    "  - [Application](https://python-programming.quantecon.org/rob_markov_perf.html#application)\n",
    "- [Default Risk and Income Fluctuations](https://python-programming.quantecon.org/arellano.html)\n",
    "  - [Overview](https://python-programming.quantecon.org/arellano.html#overview)\n",
    "  - [Structure](https://python-programming.quantecon.org/arellano.html#structure)\n",
    "  - [Equilibrium](https://python-programming.quantecon.org/arellano.html#equilibrium)\n",
    "  - [Computation](https://python-programming.quantecon.org/arellano.html#computation)\n",
    "  - [Results](https://python-programming.quantecon.org/arellano.html#results)\n",
    "  - [Exercises](https://python-programming.quantecon.org/arellano.html#exercises)\n",
    "  - [Solutions](https://python-programming.quantecon.org/arellano.html#solutions)\n",
    "- [Globalization and Cycles](https://python-programming.quantecon.org/matsuyama.html)\n",
    "  - [Overview](https://python-programming.quantecon.org/matsuyama.html#overview)\n",
    "  - [Key Ideas](https://python-programming.quantecon.org/matsuyama.html#key-ideas)\n",
    "  - [Model](https://python-programming.quantecon.org/matsuyama.html#model)\n",
    "  - [Simulation](https://python-programming.quantecon.org/matsuyama.html#simulation)\n",
    "  - [Exercises](https://python-programming.quantecon.org/matsuyama.html#exercises)\n",
    "  - [Solutions](https://python-programming.quantecon.org/matsuyama.html#solutions)\n",
    "- [Coase’s Theory of the Firm](https://python-programming.quantecon.org/coase.html)\n",
    "  - [Overview](https://python-programming.quantecon.org/coase.html#overview)\n",
    "  - [The Model](https://python-programming.quantecon.org/coase.html#the-model)\n",
    "  - [Equilibrium](https://python-programming.quantecon.org/coase.html#equilibrium)\n",
    "  - [Existence, Uniqueness and Computation of Equilibria](https://python-programming.quantecon.org/coase.html#existence-uniqueness-and-computation-of-equilibria)\n",
    "  - [Implementation](https://python-programming.quantecon.org/coase.html#implementation)\n",
    "  - [Exercises](https://python-programming.quantecon.org/coase.html#exercises)\n",
    "  - [Solutions](https://python-programming.quantecon.org/coase.html#solutions)"
   ]
  }
 ],
 "metadata": {
  "date": 1605407958.4117086,
  "filename": "index_multi_agent_models.rst",
  "kernelspec": {
   "display_name": "Python",
   "language": "python3",
   "name": "python3"
  },
  "next_doc": {
   "link": "rob_markov_perf",
   "title": "Robust Markov Perfect Equilibrium"
  },
  "prev_doc": {
   "link": "lqramsey",
   "title": "Optimal Taxation in an LQ Economy"
  },
  "title": "Multiple Agent Models"
 },
 "nbformat": 4,
 "nbformat_minor": 2
}