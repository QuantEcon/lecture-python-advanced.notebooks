{
 "cells": [
  {
   "cell_type": "markdown",
   "metadata": {},
   "source": [
    "\n",
    "<a id='about-lectures'></a>\n",
    "<div id=\"qe-notebook-header\" align=\"right\" style=\"text-align:right;\">\n",
    "        <a href=\"https://quantecon.org/\" title=\"quantecon.org\">\n",
    "                <img style=\"width:250px;display:inline;\" width=\"250px\" src=\"https://assets.quantecon.org/img/qe-menubar-logo.svg\" alt=\"QuantEcon\">\n",
    "        </a>\n",
    "</div>"
   ]
  },
  {
   "cell_type": "markdown",
   "metadata": {},
   "source": [
    "# About these Lectures\n",
    "\n",
    "This is one of a series of online texts on modern quantitative economics\n",
    "and programming with Python. This is the third text in the series, which\n",
    "focuses on advanced topics.\n",
    "\n",
    "For an overview of the series, see [this page](https://quantecon.org/python-lectures/)"
   ]
  }
 ],
 "metadata": {
  "date": 1603756126.7368069,
  "filename": "about_lectures.rst",
  "kernelspec": {
   "display_name": "Python",
   "language": "python3",
   "name": "python3"
  },
  "next_doc": {
   "link": "index_tools_and_techniques",
   "title": "Tools and Techniques"
  },
  "prev_doc": {
   "link": "index_toc",
   "title": "Table of Contents"
  },
  "title": "About these Lectures"
 },
 "nbformat": 4,
 "nbformat_minor": 2
}