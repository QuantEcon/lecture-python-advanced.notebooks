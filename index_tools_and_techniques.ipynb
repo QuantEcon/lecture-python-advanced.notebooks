{
 "cells": [
  {
   "cell_type": "markdown",
   "metadata": {},
   "source": [
    "\n",
    "<a id='tools-and-techniques'></a>\n",
    "<div id=\"qe-notebook-header\" align=\"right\" style=\"text-align:right;\">\n",
    "        <a href=\"https://quantecon.org/\" title=\"quantecon.org\">\n",
    "                <img style=\"width:250px;display:inline;\" width=\"250px\" src=\"https://assets.quantecon.org/img/qe-menubar-logo.svg\" alt=\"QuantEcon\">\n",
    "        </a>\n",
    "</div>"
   ]
  },
  {
   "cell_type": "markdown",
   "metadata": {},
   "source": [
    "# Tools and Techniques"
   ]
  },
  {
   "cell_type": "markdown",
   "metadata": {},
   "source": [
    "## Lectures\n",
    "\n",
    "- [Orthogonal Projections and Their Applications](https://python-programming.quantecon.org/orth_proj.html)\n",
    "  - [Overview](https://python-programming.quantecon.org/orth_proj.html#overview)\n",
    "  - [Key Definitions](https://python-programming.quantecon.org/orth_proj.html#key-definitions)\n",
    "  - [The Orthogonal Projection Theorem](https://python-programming.quantecon.org/orth_proj.html#the-orthogonal-projection-theorem)\n",
    "  - [Orthonormal Basis](https://python-programming.quantecon.org/orth_proj.html#orthonormal-basis)\n",
    "  - [Projection Using Matrix Algebra](https://python-programming.quantecon.org/orth_proj.html#projection-using-matrix-algebra)\n",
    "  - [Least Squares Regression](https://python-programming.quantecon.org/orth_proj.html#least-squares-regression)\n",
    "  - [Orthogonalization and Decomposition](https://python-programming.quantecon.org/orth_proj.html#orthogonalization-and-decomposition)\n",
    "  - [Exercises](https://python-programming.quantecon.org/orth_proj.html#exercises)\n",
    "  - [Solutions](https://python-programming.quantecon.org/orth_proj.html#solutions)\n",
    "- [Continuous State Markov Chains](https://python-programming.quantecon.org/stationary_densities.html)\n",
    "  - [Overview](https://python-programming.quantecon.org/stationary_densities.html#overview)\n",
    "  - [The Density Case](https://python-programming.quantecon.org/stationary_densities.html#the-density-case)\n",
    "  - [Beyond Densities](https://python-programming.quantecon.org/stationary_densities.html#beyond-densities)\n",
    "  - [Stability](https://python-programming.quantecon.org/stationary_densities.html#stability)\n",
    "  - [Exercises](https://python-programming.quantecon.org/stationary_densities.html#exercises)\n",
    "  - [Solutions](https://python-programming.quantecon.org/stationary_densities.html#solutions)\n",
    "  - [Appendix](https://python-programming.quantecon.org/stationary_densities.html#appendix)\n",
    "- [Reverse Engineering a la Muth](https://python-programming.quantecon.org/muth_kalman.html)\n",
    "  - [Friedman (1956) and Muth (1960)](https://python-programming.quantecon.org/muth_kalman.html#friedman-1956-and-muth-1960)\n",
    "- [Discrete State Dynamic Programming](https://python-programming.quantecon.org/discrete_dp.html)\n",
    "  - [Overview](https://python-programming.quantecon.org/discrete_dp.html#overview)\n",
    "  - [Discrete DPs](https://python-programming.quantecon.org/discrete_dp.html#discrete-dps)\n",
    "  - [Solving Discrete DPs](https://python-programming.quantecon.org/discrete_dp.html#solving-discrete-dps)\n",
    "  - [Example: A Growth Model](https://python-programming.quantecon.org/discrete_dp.html#example-a-growth-model)\n",
    "  - [Exercises](https://python-programming.quantecon.org/discrete_dp.html#exercises)\n",
    "  - [Solutions](https://python-programming.quantecon.org/discrete_dp.html#solutions)\n",
    "  - [Appendix: Algorithms](https://python-programming.quantecon.org/discrete_dp.html#appendix-algorithms)"
   ]
  }
 ],
 "metadata": {
  "date": 1603756132.0474865,
  "filename": "index_tools_and_techniques.rst",
  "kernelspec": {
   "display_name": "Python",
   "language": "python3",
   "name": "python3"
  },
  "next_doc": {
   "link": "orth_proj",
   "title": "Orthogonal Projections and Their Applications"
  },
  "prev_doc": {
   "link": "about_lectures",
   "title": "About these Lectures"
  },
  "title": "Tools and Techniques"
 },
 "nbformat": 4,
 "nbformat_minor": 2
}