{
 "cells": [
  {
   "cell_type": "markdown",
   "metadata": {},
   "source": [
    "\n",
    "<a id='asset-pricing'></a>\n",
    "<div id=\"qe-notebook-header\" align=\"right\" style=\"text-align:right;\">\n",
    "        <a href=\"https://quantecon.org/\" title=\"quantecon.org\">\n",
    "                <img style=\"width:250px;display:inline;\" width=\"250px\" src=\"https://assets.quantecon.org/img/qe-menubar-logo.svg\" alt=\"QuantEcon\">\n",
    "        </a>\n",
    "</div>"
   ]
  },
  {
   "cell_type": "markdown",
   "metadata": {},
   "source": [
    "# Asset Pricing and Finance"
   ]
  },
  {
   "cell_type": "markdown",
   "metadata": {},
   "source": [
    "## Lectures\n",
    "\n",
    "- [Asset Pricing II: The Lucas Asset Pricing Model](https://python-programming.quantecon.org/lucas_model.html)\n",
    "  - [Overview](https://python-programming.quantecon.org/lucas_model.html#overview)\n",
    "  - [The Lucas Model](https://python-programming.quantecon.org/lucas_model.html#the-lucas-model)\n",
    "  - [Exercises](https://python-programming.quantecon.org/lucas_model.html#exercises)\n",
    "  - [Solutions](https://python-programming.quantecon.org/lucas_model.html#solutions)\n",
    "- [Two Modifications of Mean-Variance Portfolio Theory](https://python-programming.quantecon.org/black_litterman.html)\n",
    "  - [Overview](https://python-programming.quantecon.org/black_litterman.html#overview)\n",
    "  - [Appendix](https://python-programming.quantecon.org/black_litterman.html#appendix)\n",
    "- [Irrelevance of Capital Structures with Complete Markets](https://python-programming.quantecon.org/BCG_complete_mkts.html)\n",
    "  - [Introduction](https://python-programming.quantecon.org/BCG_complete_mkts.html#introduction)\n",
    "  - [Competitive equilibrium](https://python-programming.quantecon.org/BCG_complete_mkts.html#competitive-equilibrium)\n",
    "  - [Code](https://python-programming.quantecon.org/BCG_complete_mkts.html#code)\n",
    "- [Equilibrium Capital Structures with Incomplete Markets](https://python-programming.quantecon.org/BCG_incomplete_mkts.html)\n",
    "  - [Introduction](https://python-programming.quantecon.org/BCG_incomplete_mkts.html#introduction)\n",
    "  - [Asset Markets](https://python-programming.quantecon.org/BCG_incomplete_mkts.html#asset-markets)\n",
    "  - [Equilibrium verification](https://python-programming.quantecon.org/BCG_incomplete_mkts.html#equilibrium-verification)\n",
    "  - [Pseudo Code](https://python-programming.quantecon.org/BCG_incomplete_mkts.html#pseudo-code)\n",
    "  - [Code](https://python-programming.quantecon.org/BCG_incomplete_mkts.html#code)\n",
    "  - [Examples](https://python-programming.quantecon.org/BCG_incomplete_mkts.html#examples)\n",
    "  - [A picture worth a thousand words](https://python-programming.quantecon.org/BCG_incomplete_mkts.html#a-picture-worth-a-thousand-words)"
   ]
  }
 ],
 "metadata": {
  "date": 1605407958.0564766,
  "filename": "index_asset_pricing.rst",
  "kernelspec": {
   "display_name": "Python",
   "language": "python3",
   "name": "python3"
  },
  "next_doc": {
   "link": "lucas_model",
   "title": "Asset Pricing II: The Lucas Asset Pricing Model"
  },
  "prev_doc": {
   "link": "classical_filtering",
   "title": "Classical Prediction and Filtering With Linear Algebra"
  },
  "title": "Asset Pricing and Finance"
 },
 "nbformat": 4,
 "nbformat_minor": 2
}