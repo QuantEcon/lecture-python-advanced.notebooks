{
 "cells": [
  {
   "cell_type": "markdown",
   "metadata": {},
   "source": [
    "\n",
    "<a id='lq-dynamic-programming'></a>\n",
    "<div id=\"qe-notebook-header\" align=\"right\" style=\"text-align:right;\">\n",
    "        <a href=\"https://quantecon.org/\" title=\"quantecon.org\">\n",
    "                <img style=\"width:250px;display:inline;\" width=\"250px\" src=\"https://assets.quantecon.org/img/qe-menubar-logo.svg\" alt=\"QuantEcon\">\n",
    "        </a>\n",
    "</div>"
   ]
  },
  {
   "cell_type": "markdown",
   "metadata": {},
   "source": [
    "# LQ Control"
   ]
  },
  {
   "cell_type": "markdown",
   "metadata": {},
   "source": [
    "## Lectures\n",
    "\n",
    "- [Information and Consumption Smoothing](https://python-programming.quantecon.org/cons_news.html)\n",
    "  - [Overview](https://python-programming.quantecon.org/cons_news.html#overview)\n",
    "  - [Two Representations of the **Same** Nonfinancial Income Process](https://python-programming.quantecon.org/cons_news.html#two-representations-of-the-same-nonfinancial-income-process)\n",
    "  - [State Space Representations](https://python-programming.quantecon.org/cons_news.html#state-space-representations)\n",
    "- [Consumption Smoothing with Complete and Incomplete Markets](https://python-programming.quantecon.org/smoothing.html)\n",
    "  - [Overview](https://python-programming.quantecon.org/smoothing.html#overview)\n",
    "  - [Background](https://python-programming.quantecon.org/smoothing.html#background)\n",
    "  - [Linear State Space Version of Complete Markets Model](https://python-programming.quantecon.org/smoothing.html#linear-state-space-version-of-complete-markets-model)\n",
    "  - [Model 1 (Complete Markets)](https://python-programming.quantecon.org/smoothing.html#model-1-complete-markets)\n",
    "  - [Model 2 (One-Period Risk-Free Debt Only)](https://python-programming.quantecon.org/smoothing.html#model-2-one-period-risk-free-debt-only)\n",
    "- [Tax Smoothing with Complete and Incomplete Markets](https://python-programming.quantecon.org/smoothing_tax.html)\n",
    "  - [Overview](https://python-programming.quantecon.org/smoothing_tax.html#overview)\n",
    "  - [Tax Smoothing with Complete Markets](https://python-programming.quantecon.org/smoothing_tax.html#tax-smoothing-with-complete-markets)\n",
    "  - [Returns on State-Contingent Debt](https://python-programming.quantecon.org/smoothing_tax.html#returns-on-state-contingent-debt)\n",
    "  - [More Finite Markov Chain Tax-Smoothing Examples](https://python-programming.quantecon.org/smoothing_tax.html#more-finite-markov-chain-tax-smoothing-examples)\n",
    "- [Robustness](https://python-programming.quantecon.org/robustness.html)\n",
    "  - [Overview](https://python-programming.quantecon.org/robustness.html#overview)\n",
    "  - [The Model](https://python-programming.quantecon.org/robustness.html#the-model)\n",
    "  - [Constructing More Robust Policies](https://python-programming.quantecon.org/robustness.html#constructing-more-robust-policies)\n",
    "  - [Robustness as Outcome of a Two-Person Zero-Sum Game](https://python-programming.quantecon.org/robustness.html#robustness-as-outcome-of-a-two-person-zero-sum-game)\n",
    "  - [The Stochastic Case](https://python-programming.quantecon.org/robustness.html#the-stochastic-case)\n",
    "  - [Implementation](https://python-programming.quantecon.org/robustness.html#implementation)\n",
    "  - [Application](https://python-programming.quantecon.org/robustness.html#application)\n",
    "  - [Appendix](https://python-programming.quantecon.org/robustness.html#appendix)\n",
    "- [Markov Jump Linear Quadratic Dynamic Programming](https://python-programming.quantecon.org/markov_jump_lq.html)\n",
    "  - [Overview](https://python-programming.quantecon.org/markov_jump_lq.html#overview)\n",
    "  - [Review of useful LQ dynamic programming formulas](https://python-programming.quantecon.org/markov_jump_lq.html#review-of-useful-lq-dynamic-programming-formulas)\n",
    "  - [Linked Ricatti equations for Markov LQ dynamic programming](https://python-programming.quantecon.org/markov_jump_lq.html#linked-ricatti-equations-for-markov-lq-dynamic-programming)\n",
    "  - [Applications](https://python-programming.quantecon.org/markov_jump_lq.html#applications)\n",
    "  - [Example 1](https://python-programming.quantecon.org/markov_jump_lq.html#example-1)\n",
    "  - [Example 2](https://python-programming.quantecon.org/markov_jump_lq.html#example-2)\n",
    "  - [More examples](https://python-programming.quantecon.org/markov_jump_lq.html#more-examples)\n",
    "- [How to Pay for a War: Part 1](https://python-programming.quantecon.org/tax_smoothing_1.html)\n",
    "  - [Reader’s Guide](https://python-programming.quantecon.org/tax_smoothing_1.html#reader-s-guide)\n",
    "  - [Public Finance Questions](https://python-programming.quantecon.org/tax_smoothing_1.html#public-finance-questions)\n",
    "  - [Barro (1979) Model](https://python-programming.quantecon.org/tax_smoothing_1.html#barro-1979-model)\n",
    "  - [Python Class to Solve Markov Jump Linear Quadratic Control Problems](https://python-programming.quantecon.org/tax_smoothing_1.html#python-class-to-solve-markov-jump-linear-quadratic-control-problems)\n",
    "  - [Barro Model with a Time-varying Interest Rate](https://python-programming.quantecon.org/tax_smoothing_1.html#barro-model-with-a-time-varying-interest-rate)\n",
    "- [How to Pay for a War: Part 2](https://python-programming.quantecon.org/tax_smoothing_2.html)\n",
    "  - [An Application of Markov Jump Linear Quadratic Dynamic Programming](https://python-programming.quantecon.org/tax_smoothing_2.html#an-application-of-markov-jump-linear-quadratic-dynamic-programming)\n",
    "  - [Two example specifications](https://python-programming.quantecon.org/tax_smoothing_2.html#two-example-specifications)\n",
    "  - [One- and Two-period Bonds but No Restructuring](https://python-programming.quantecon.org/tax_smoothing_2.html#one-and-two-period-bonds-but-no-restructuring)\n",
    "  - [Mapping into an LQ Markov Jump Problem](https://python-programming.quantecon.org/tax_smoothing_2.html#mapping-into-an-lq-markov-jump-problem)\n",
    "  - [Penalty on Different Issuance Across Maturities](https://python-programming.quantecon.org/tax_smoothing_2.html#penalty-on-different-issuance-across-maturities)\n",
    "  - [A Model with Restructuring](https://python-programming.quantecon.org/tax_smoothing_2.html#a-model-with-restructuring)\n",
    "  - [Restructuring as a Markov Jump Linear Quadratic Control Problem](https://python-programming.quantecon.org/tax_smoothing_2.html#restructuring-as-a-markov-jump-linear-quadratic-control-problem)\n",
    "- [How to Pay for a War: Part 3](https://python-programming.quantecon.org/tax_smoothing_3.html)\n",
    "  - [Another Application of Markov Jump Linear Quadratic Dynamic Programming](https://python-programming.quantecon.org/tax_smoothing_3.html#another-application-of-markov-jump-linear-quadratic-dynamic-programming)\n",
    "  - [Roll-Over Risk](https://python-programming.quantecon.org/tax_smoothing_3.html#roll-over-risk)\n",
    "  - [A Dead End](https://python-programming.quantecon.org/tax_smoothing_3.html#a-dead-end)\n",
    "  - [Better Representation of Roll-Over Risk](https://python-programming.quantecon.org/tax_smoothing_3.html#better-representation-of-roll-over-risk)\n",
    "- [Optimal Taxation in an LQ Economy](https://python-programming.quantecon.org/lqramsey.html)\n",
    "  - [Overview](https://python-programming.quantecon.org/lqramsey.html#overview)\n",
    "  - [The Ramsey Problem](https://python-programming.quantecon.org/lqramsey.html#the-ramsey-problem)\n",
    "  - [Implementation](https://python-programming.quantecon.org/lqramsey.html#implementation)\n",
    "  - [Examples](https://python-programming.quantecon.org/lqramsey.html#examples)\n",
    "  - [Exercises](https://python-programming.quantecon.org/lqramsey.html#exercises)\n",
    "  - [Solutions](https://python-programming.quantecon.org/lqramsey.html#solutions)"
   ]
  }
 ],
 "metadata": {
  "date": 1603932545.0624526,
  "filename": "index_lq_control.rst",
  "kernelspec": {
   "display_name": "Python",
   "language": "python3",
   "name": "python3"
  },
  "next_doc": {
   "link": "cons_news",
   "title": "Information and Consumption Smoothing"
  },
  "prev_doc": {
   "link": "discrete_dp",
   "title": "Discrete State Dynamic Programming"
  },
  "title": "LQ Control"
 },
 "nbformat": 4,
 "nbformat_minor": 2
}