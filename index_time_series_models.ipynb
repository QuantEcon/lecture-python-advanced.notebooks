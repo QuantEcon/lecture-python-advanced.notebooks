{
 "cells": [
  {
   "cell_type": "markdown",
   "metadata": {},
   "source": [
    "<div id=\"qe-notebook-header\" align=\"right\" style=\"text-align:right;\">\n",
    "        <a href=\"https://quantecon.org/\" title=\"quantecon.org\">\n",
    "                <img style=\"width:250px;display:inline;\" width=\"250px\" src=\"https://assets.quantecon.org/img/qe-menubar-logo.svg\" alt=\"QuantEcon\">\n",
    "        </a>\n",
    "</div>"
   ]
  },
  {
   "cell_type": "markdown",
   "metadata": {},
   "source": [
    "# Time Series Models\n",
    "\n",
    "These lectures look at important concepts in time series that are used in economics"
   ]
  },
  {
   "cell_type": "markdown",
   "metadata": {},
   "source": [
    "## Lectures\n",
    "\n",
    "- [Covariance Stationary Processes](https://python-programming.quantecon.org/arma.html)\n",
    "  - [Overview](https://python-programming.quantecon.org/arma.html#overview)\n",
    "  - [Introduction](https://python-programming.quantecon.org/arma.html#introduction)\n",
    "  - [Spectral Analysis](https://python-programming.quantecon.org/arma.html#id12)\n",
    "  - [Implementation](https://python-programming.quantecon.org/arma.html#implementation)\n",
    "- [Estimation of Spectra](https://python-programming.quantecon.org/estspec.html)\n",
    "  - [Overview](https://python-programming.quantecon.org/estspec.html#overview)\n",
    "  - [Periodograms](https://python-programming.quantecon.org/estspec.html#periodograms)\n",
    "  - [Smoothing](https://python-programming.quantecon.org/estspec.html#smoothing)\n",
    "  - [Exercises](https://python-programming.quantecon.org/estspec.html#exercises)\n",
    "  - [Solutions](https://python-programming.quantecon.org/estspec.html#solutions)\n",
    "- [Additive and Multiplicative Functionals](https://python-programming.quantecon.org/additive_functionals.html)\n",
    "  - [Overview](https://python-programming.quantecon.org/additive_functionals.html#overview)\n",
    "  - [A Particular Additive Functional](https://python-programming.quantecon.org/additive_functionals.html#a-particular-additive-functional)\n",
    "  - [Dynamics](https://python-programming.quantecon.org/additive_functionals.html#dynamics)\n",
    "  - [Code](https://python-programming.quantecon.org/additive_functionals.html#code)\n",
    "  - [More About the Multiplicative Martingale](https://python-programming.quantecon.org/additive_functionals.html#more-about-the-multiplicative-martingale)\n",
    "- [Classical Control with Linear Algebra](https://python-programming.quantecon.org/lu_tricks.html)\n",
    "  - [Overview](https://python-programming.quantecon.org/lu_tricks.html#overview)\n",
    "  - [A Control Problem](https://python-programming.quantecon.org/lu_tricks.html#a-control-problem)\n",
    "  - [Finite Horizon Theory](https://python-programming.quantecon.org/lu_tricks.html#finite-horizon-theory)\n",
    "  - [The Infinite Horizon Limit](https://python-programming.quantecon.org/lu_tricks.html#the-infinite-horizon-limit)\n",
    "  - [Undiscounted Problems](https://python-programming.quantecon.org/lu_tricks.html#undiscounted-problems)\n",
    "  - [Implementation](https://python-programming.quantecon.org/lu_tricks.html#implementation)\n",
    "  - [Exercises](https://python-programming.quantecon.org/lu_tricks.html#exercises)\n",
    "- [Classical Prediction and Filtering With Linear Algebra](https://python-programming.quantecon.org/classical_filtering.html)\n",
    "  - [Overview](https://python-programming.quantecon.org/classical_filtering.html#overview)\n",
    "  - [Finite Dimensional Prediction](https://python-programming.quantecon.org/classical_filtering.html#finite-dimensional-prediction)\n",
    "  - [Combined Finite Dimensional Control and Prediction](https://python-programming.quantecon.org/classical_filtering.html#combined-finite-dimensional-control-and-prediction)\n",
    "  - [Infinite Horizon Prediction and Filtering Problems](https://python-programming.quantecon.org/classical_filtering.html#infinite-horizon-prediction-and-filtering-problems)\n",
    "  - [Exercises](https://python-programming.quantecon.org/classical_filtering.html#exercises)\n",
    "- [Knowing the Forecasts of Others](https://python-programming.quantecon.org/knowing_forecasts_of_others.html)\n",
    "  - [Introduction](https://python-programming.quantecon.org/knowing_forecasts_of_others.html#introduction)\n",
    "  - [The Setting](https://python-programming.quantecon.org/knowing_forecasts_of_others.html#the-setting)\n",
    "  - [Tactics](https://python-programming.quantecon.org/knowing_forecasts_of_others.html#tactics)\n",
    "  - [Equilibrium conditions](https://python-programming.quantecon.org/knowing_forecasts_of_others.html#equilibrium-conditions)\n",
    "  - [Equilibrium with $ \\theta_t $ stochastic but observed at $ t $](https://python-programming.quantecon.org/knowing_forecasts_of_others.html#equilibrium-with-theta-t-stochastic-but-observed-at-t)\n",
    "  - [Guess-and-verify tactic](https://python-programming.quantecon.org/knowing_forecasts_of_others.html#guess-and-verify-tactic)\n",
    "  - [Equilibrium with one signal on $ \\theta_t $](https://python-programming.quantecon.org/knowing_forecasts_of_others.html#equilibrium-with-one-signal-on-theta-t)\n",
    "  - [Equilibrium with two noisy signals on $ \\theta_t $](https://python-programming.quantecon.org/knowing_forecasts_of_others.html#equilibrium-with-two-noisy-signals-on-theta-t)\n",
    "  - [Comparison of the two signal structures](https://python-programming.quantecon.org/knowing_forecasts_of_others.html#comparison-of-the-two-signal-structures)\n",
    "  - [Notes on History of the Problem](https://python-programming.quantecon.org/knowing_forecasts_of_others.html#notes-on-history-of-the-problem)"
   ]
  }
 ],
 "metadata": {
  "date": 1619661945.9898818,
  "filename": "index_time_series_models.rst",
  "kernelspec": {
   "display_name": "Python",
   "language": "python3",
   "name": "python3"
  },
  "next_doc": {
   "link": "arma",
   "title": "Covariance Stationary Processes"
  },
  "prev_doc": {
   "link": "von_neumann_model",
   "title": "Von Neumann Growth Model (and a Generalization)"
  },
  "title": "Time Series Models"
 },
 "nbformat": 4,
 "nbformat_minor": 2
}