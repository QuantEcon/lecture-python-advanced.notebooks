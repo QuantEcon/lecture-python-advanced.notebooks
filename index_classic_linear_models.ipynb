{
 "cells": [
  {
   "cell_type": "markdown",
   "metadata": {},
   "source": [
    "\n",
    "<a id='classic-linear-models'></a>\n",
    "<div id=\"qe-notebook-header\" align=\"right\" style=\"text-align:right;\">\n",
    "        <a href=\"https://quantecon.org/\" title=\"quantecon.org\">\n",
    "                <img style=\"width:250px;display:inline;\" width=\"250px\" src=\"https://assets.quantecon.org/img/qe-menubar-logo.svg\" alt=\"QuantEcon\">\n",
    "        </a>\n",
    "</div>"
   ]
  },
  {
   "cell_type": "markdown",
   "metadata": {},
   "source": [
    "# Classic Linear Models"
   ]
  },
  {
   "cell_type": "markdown",
   "metadata": {},
   "source": [
    "## Lectures\n",
    "\n",
    "- [Von Neumann Growth Model (and a Generalization)](https://python-programming.quantecon.org/von_neumann_model.html)\n",
    "  - [Notation](https://python-programming.quantecon.org/von_neumann_model.html#notation)\n",
    "  - [Model Ingredients and Assumptions](https://python-programming.quantecon.org/von_neumann_model.html#model-ingredients-and-assumptions)\n",
    "  - [Dynamic Interpretation](https://python-programming.quantecon.org/von_neumann_model.html#dynamic-interpretation)\n",
    "  - [Duality](https://python-programming.quantecon.org/von_neumann_model.html#duality)\n",
    "  - [Interpretation as Two-player Zero-sum Game](https://python-programming.quantecon.org/von_neumann_model.html#interpretation-as-two-player-zero-sum-game)"
   ]
  }
 ],
 "metadata": {
  "date": 1614902522.208819,
  "filename": "index_classic_linear_models.rst",
  "kernelspec": {
   "display_name": "Python",
   "language": "python3",
   "name": "python3"
  },
  "next_doc": {
   "link": "von_neumann_model",
   "title": "Von Neumann Growth Model (and a Generalization)"
  },
  "prev_doc": {
   "link": "hs_invertibility_example",
   "title": "Shock Non Invertibility"
  },
  "title": "Classic Linear Models"
 },
 "nbformat": 4,
 "nbformat_minor": 2
}