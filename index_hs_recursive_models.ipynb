{
 "cells": [
  {
   "cell_type": "markdown",
   "metadata": {},
   "source": [
    "\n",
    "<a id='hs-recursive-models'></a>\n",
    "<div id=\"qe-notebook-header\" align=\"right\" style=\"text-align:right;\">\n",
    "        <a href=\"https://quantecon.org/\" title=\"quantecon.org\">\n",
    "                <img style=\"width:250px;display:inline;\" width=\"250px\" src=\"https://assets.quantecon.org/img/qe-menubar-logo.svg\" alt=\"QuantEcon\">\n",
    "        </a>\n",
    "</div>"
   ]
  },
  {
   "cell_type": "markdown",
   "metadata": {},
   "source": [
    "# Dynamic Linear Economies"
   ]
  },
  {
   "cell_type": "markdown",
   "metadata": {},
   "source": [
    "## Lectures\n",
    "\n",
    "- [Recursive Models of Dynamic Linear Economies](https://python-programming.quantecon.org/hs_recursive_models.html)\n",
    "  - [A Suite of Models](https://python-programming.quantecon.org/hs_recursive_models.html#a-suite-of-models)\n",
    "  - [Econometrics](https://python-programming.quantecon.org/hs_recursive_models.html#econometrics)\n",
    "  - [Dynamic Demand Curves and Canonical Household Technologies](https://python-programming.quantecon.org/hs_recursive_models.html#dynamic-demand-curves-and-canonical-household-technologies)\n",
    "  - [Gorman Aggregation and Engel Curves](https://python-programming.quantecon.org/hs_recursive_models.html#gorman-aggregation-and-engel-curves)\n",
    "  - [Partial Equilibrium](https://python-programming.quantecon.org/hs_recursive_models.html#partial-equilibrium)\n",
    "  - [Equilibrium Investment Under Uncertainty](https://python-programming.quantecon.org/hs_recursive_models.html#equilibrium-investment-under-uncertainty)\n",
    "  - [A Rosen-Topel Housing Model](https://python-programming.quantecon.org/hs_recursive_models.html#a-rosen-topel-housing-model)\n",
    "  - [Cattle Cycles](https://python-programming.quantecon.org/hs_recursive_models.html#cattle-cycles)\n",
    "  - [Models of Occupational Choice and Pay](https://python-programming.quantecon.org/hs_recursive_models.html#models-of-occupational-choice-and-pay)\n",
    "  - [Permanent Income Models](https://python-programming.quantecon.org/hs_recursive_models.html#permanent-income-models)\n",
    "  - [Gorman Heterogeneous Households](https://python-programming.quantecon.org/hs_recursive_models.html#gorman-heterogeneous-households)\n",
    "  - [Non-Gorman Heterogeneous Households](https://python-programming.quantecon.org/hs_recursive_models.html#non-gorman-heterogeneous-households)\n",
    "- [Growth in Dynamic Linear Economies](https://python-programming.quantecon.org/growth_in_dles.html)\n",
    "  - [Common Structure](https://python-programming.quantecon.org/growth_in_dles.html#common-structure)\n",
    "  - [A Planning Problem](https://python-programming.quantecon.org/growth_in_dles.html#a-planning-problem)\n",
    "  - [Example Economies](https://python-programming.quantecon.org/growth_in_dles.html#example-economies)\n",
    "- [Lucas Asset Pricing Using DLE](https://python-programming.quantecon.org/lucas_asset_pricing_dles.html)\n",
    "  - [Asset Pricing Equations](https://python-programming.quantecon.org/lucas_asset_pricing_dles.html#asset-pricing-equations)\n",
    "  - [Asset Pricing Simulations](https://python-programming.quantecon.org/lucas_asset_pricing_dles.html#asset-pricing-simulations)\n",
    "- [IRFs in Hall Models](https://python-programming.quantecon.org/irfs_in_hall_model.html)\n",
    "  - [Example 1: Hall (1978)](https://python-programming.quantecon.org/irfs_in_hall_model.html#example-1-hall-1978)\n",
    "  - [Example 2: Higher Adjustment Costs](https://python-programming.quantecon.org/irfs_in_hall_model.html#example-2-higher-adjustment-costs)\n",
    "  - [Example 3: Durable Consumption Goods](https://python-programming.quantecon.org/irfs_in_hall_model.html#example-3-durable-consumption-goods)\n",
    "- [Permanent Income Model using the DLE Class](https://python-programming.quantecon.org/permanent_income_dles.html)\n",
    "  - [The Permanent Income Model](https://python-programming.quantecon.org/permanent_income_dles.html#the-permanent-income-model)\n",
    "- [Rosen Schooling Model](https://python-programming.quantecon.org/rosen_schooling_model.html)\n",
    "  - [A One-Occupation Model](https://python-programming.quantecon.org/rosen_schooling_model.html#a-one-occupation-model)\n",
    "  - [Mapping into HS2013 Framework](https://python-programming.quantecon.org/rosen_schooling_model.html#mapping-into-hs2013-framework)\n",
    "- [Cattle Cycles](https://python-programming.quantecon.org/cattle_cycles.html)\n",
    "  - [The Model](https://python-programming.quantecon.org/cattle_cycles.html#the-model)\n",
    "  - [Mapping into HS2013 Framework](https://python-programming.quantecon.org/cattle_cycles.html#mapping-into-hs2013-framework)\n",
    "- [Shock Non Invertibility](https://python-programming.quantecon.org/hs_invertibility_example.html)\n",
    "  - [Overview](https://python-programming.quantecon.org/hs_invertibility_example.html#overview)\n",
    "  - [Model](https://python-programming.quantecon.org/hs_invertibility_example.html#model)\n",
    "  - [Code](https://python-programming.quantecon.org/hs_invertibility_example.html#code)"
   ]
  }
 ],
 "metadata": {
  "date": 1604443726.0263906,
  "filename": "index_hs_recursive_models.rst",
  "kernelspec": {
   "display_name": "Python",
   "language": "python3",
   "name": "python3"
  },
  "next_doc": {
   "link": "hs_recursive_models",
   "title": "Recursive Models of Dynamic Linear Economies"
  },
  "prev_doc": {
   "link": "coase",
   "title": "Coase’s Theory of the Firm"
  },
  "title": "Dynamic Linear Economies"
 },
 "nbformat": 4,
 "nbformat_minor": 2
}