{
 "cells": [
  {
   "cell_type": "markdown",
   "id": "93d346fc",
   "metadata": {},
   "source": [
    "# Execution Statistics\n",
    "\n",
    "This table contains the latest execution statistics.\n",
    "\n",
    "[](https://python-advanced.quantecon.org/BCG_complete_mkts.html)[](https://python-advanced.quantecon.org/BCG_incomplete_mkts.html)[](https://python-advanced.quantecon.org/additive_functionals.html)[](https://python-advanced.quantecon.org/amss.html)[](https://python-advanced.quantecon.org/amss2.html)[](https://python-advanced.quantecon.org/amss3.html)[](https://python-advanced.quantecon.org/arellano.html)[](https://python-advanced.quantecon.org/arma.html)[](https://python-advanced.quantecon.org/asset_pricing_lph.html)[](https://python-advanced.quantecon.org/black_litterman.html)[](https://python-advanced.quantecon.org/calvo.html)[](https://python-advanced.quantecon.org/calvo_abreu.html)[](https://python-advanced.quantecon.org/calvo_machine_learn.html)[](https://python-advanced.quantecon.org/cattle_cycles.html)[](https://python-advanced.quantecon.org/chang_credible.html)[](https://python-advanced.quantecon.org/chang_ramsey.html)[](https://python-advanced.quantecon.org/classical_filtering.html)[](https://python-advanced.quantecon.org/coase.html)[](https://python-advanced.quantecon.org/cons_news.html)[](https://python-advanced.quantecon.org/discrete_dp.html)[](https://python-advanced.quantecon.org/dyn_stack.html)[](https://python-advanced.quantecon.org/entropy.html)[](https://python-advanced.quantecon.org/estspec.html)[](https://python-advanced.quantecon.org/five_preferences.html)[](https://python-advanced.quantecon.org/growth_in_dles.html)[](https://python-advanced.quantecon.org/hs_invertibility_example.html)[](https://python-advanced.quantecon.org/hs_recursive_models.html)[](https://python-advanced.quantecon.org/intro.html)[](https://python-advanced.quantecon.org/irfs_in_hall_model.html)[](https://python-advanced.quantecon.org/knowing_forecasts_of_others.html)[](https://python-advanced.quantecon.org/lqramsey.html)[](https://python-advanced.quantecon.org/lu_tricks.html)[](https://python-advanced.quantecon.org/lucas_asset_pricing_dles.html)[](https://python-advanced.quantecon.org/lucas_model.html)[](https://python-advanced.quantecon.org/markov_jump_lq.html)[](https://python-advanced.quantecon.org/match_transport.html)[](https://python-advanced.quantecon.org/matsuyama.html)[](https://python-advanced.quantecon.org/muth_kalman.html)[](https://python-advanced.quantecon.org/opt_tax_recur.html)[](https://python-advanced.quantecon.org/orth_proj.html)[](https://python-advanced.quantecon.org/permanent_income_dles.html)[](https://python-advanced.quantecon.org/rob_markov_perf.html)[](https://python-advanced.quantecon.org/robustness.html)[](https://python-advanced.quantecon.org/rosen_schooling_model.html)[](https://python-advanced.quantecon.org/smoothing.html)[](https://python-advanced.quantecon.org/smoothing_tax.html)[](https://python-advanced.quantecon.org/stationary_densities.html)[](https://python-advanced.quantecon.org/.html)[](https://python-advanced.quantecon.org/tax_smoothing_1.html)[](https://python-advanced.quantecon.org/tax_smoothing_2.html)[](https://python-advanced.quantecon.org/tax_smoothing_3.html)[](https://python-advanced.quantecon.org/troubleshooting.html)[](https://python-advanced.quantecon.org/un_insure.html)[](https://python-advanced.quantecon.org/zreferences.html)|Document|Modified|Method|Run Time (s)|Status|\n",
    "|:------------------:|:------------------:|:------------------:|:------------------:|:------------------:|\n",
    "|BCG_complete_mkts|2025-10-27 03:36|cache|62.53|✅|\n",
    "|BCG_incomplete_mkts|2025-10-27 03:38|cache|94.17|✅|\n",
    "|additive_functionals|2025-10-27 03:38|cache|17.64|✅|\n",
    "|amss|2025-10-27 03:42|cache|218.1|✅|\n",
    "|amss2|2025-10-27 03:43|cache|62.57|✅|\n",
    "|amss3|2025-10-27 03:47|cache|258.15|✅|\n",
    "|arellano|2025-10-27 03:49|cache|89.24|✅|\n",
    "|arma|2025-10-27 03:49|cache|6.57|✅|\n",
    "|asset_pricing_lph|2025-10-27 03:49|cache|2.32|✅|\n",
    "|black_litterman|2025-10-27 03:50|cache|35.48|✅|\n",
    "|calvo|2025-10-27 03:50|cache|8.83|✅|\n",
    "|calvo_abreu|2025-10-27 03:50|cache|3.59|✅|\n",
    "|calvo_machine_learn|2025-10-27 03:50|cache|17.33|✅|\n",
    "|cattle_cycles|2025-10-27 03:50|cache|3.81|✅|\n",
    "|chang_credible|2025-10-27 03:56|cache|339.8|✅|\n",
    "|chang_ramsey|2025-10-27 04:05|cache|528.17|✅|\n",
    "|classical_filtering|2025-10-27 04:05|cache|1.25|✅|\n",
    "|coase|2025-10-27 04:05|cache|4.06|✅|\n",
    "|cons_news|2025-10-27 04:05|cache|8.04|✅|\n",
    "|discrete_dp|2025-10-27 04:05|cache|28.98|✅|\n",
    "|dyn_stack|2025-10-27 04:05|cache|5.35|✅|\n",
    "|entropy|2025-10-27 04:05|cache|4.02|✅|\n",
    "|estspec|2025-10-27 04:06|cache|4.32|✅|\n",
    "|five_preferences|2025-10-27 04:06|cache|48.32|✅|\n",
    "|growth_in_dles|2025-10-27 04:06|cache|3.67|✅|\n",
    "|hs_invertibility_example|2025-10-27 04:06|cache|3.73|✅|\n",
    "|hs_recursive_models|2025-10-27 04:06|cache|0.74|✅|\n",
    "|intro|2025-10-27 04:06|cache|0.74|✅|\n",
    "|irfs_in_hall_model|2025-10-27 04:07|cache|3.79|✅|\n",
    "|knowing_forecasts_of_others|2025-10-27 04:07|cache|33.15|✅|\n",
    "|lqramsey|2025-10-27 04:07|cache|5.09|✅|\n",
    "|lu_tricks|2025-10-27 04:07|cache|2.09|✅|\n",
    "|lucas_asset_pricing_dles|2025-10-27 04:07|cache|3.58|✅|\n",
    "|lucas_model|2025-10-27 04:07|cache|9.61|✅|\n",
    "|markov_jump_lq|2025-10-27 04:09|cache|80.83|✅|\n",
    "|match_transport|2025-10-27 04:09|cache|21.58|✅|\n",
    "|matsuyama|2025-10-27 04:09|cache|6.52|✅|\n",
    "|muth_kalman|2025-10-27 04:09|cache|8.17|✅|\n",
    "|opt_tax_recur|2025-10-27 04:10|cache|63.9|✅|\n",
    "|orth_proj|2025-10-27 04:10|cache|1.09|✅|\n",
    "|permanent_income_dles|2025-10-27 04:11|cache|3.93|✅|\n",
    "|rob_markov_perf|2025-10-27 04:11|cache|3.6|✅|\n",
    "|robustness|2025-10-27 04:11|cache|4.17|✅|\n",
    "|rosen_schooling_model|2025-10-27 04:11|cache|3.5|✅|\n",
    "|smoothing|2025-10-27 04:11|cache|7.98|✅|\n",
    "|smoothing_tax|2025-10-27 04:11|cache|6.1|✅|\n",
    "|stationary_densities|2025-10-27 04:11|cache|7.95|✅|\n",
    "|status|2025-10-27 04:11|cache|4.14|✅|\n",
    "|tax_smoothing_1|2025-10-27 04:11|cache|10.84|✅|\n",
    "|tax_smoothing_2|2025-10-27 04:11|cache|4.34|✅|\n",
    "|tax_smoothing_3|2025-10-27 04:12|cache|4.22|✅|\n",
    "|troubleshooting|2025-10-27 04:06|cache|0.74|✅|\n",
    "|un_insure|2025-10-27 04:12|cache|12.19|✅|\n",
    "|zreferences|2025-10-27 04:06|cache|0.74|✅|\n",
    "\n",
    "<a id='status-machine-details'></a>\n",
    "These lectures are built on `linux` instances through `github actions`.\n",
    "\n",
    "These lectures are using the following python version"
   ]
  },
  {
   "cell_type": "code",
   "execution_count": null,
   "id": "88225119",
   "metadata": {
    "hide-output": false
   },
   "outputs": [],
   "source": [
    "!python --version"
   ]
  },
  {
   "cell_type": "markdown",
   "id": "4c77175d",
   "metadata": {},
   "source": [
    "and the following package versions"
   ]
  },
  {
   "cell_type": "code",
   "execution_count": null,
   "id": "95562c45",
   "metadata": {
    "hide-output": false
   },
   "outputs": [],
   "source": [
    "!conda list"
   ]
  }
 ],
 "metadata": {
  "date": 1761798009.8434732,
  "filename": "status.md",
  "kernelspec": {
   "display_name": "Python",
   "language": "python3",
   "name": "python3"
  },
  "title": "Execution Statistics"
 },
 "nbformat": 4,
 "nbformat_minor": 5
}