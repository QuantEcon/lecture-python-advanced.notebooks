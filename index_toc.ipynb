{
 "cells": [
  {
   "cell_type": "markdown",
   "metadata": {},
   "source": [
    "\n",
    "<a id='toc'></a>\n",
    "<p id=\"numfocus_badge\" style=\"float:right;margin:0 0 0 2rem;\"><a href=\"https://www.numfocus.org/\"><img src=\"/_static/img/powered-by-NumFOCUS-orange.svg\" alt=\"Powered by NumFOCUS logo\"></a></p>"
   ]
  },
  {
   "cell_type": "markdown",
   "metadata": {},
   "source": [
    "# Table of Contents\n",
    "\n",
    "- [About these Lectures](https://python-programming.quantecon.org/about_lectures.html)\n",
    "- [Tools and Techniques](https://python-programming.quantecon.org/index_tools_and_techniques.html)\n",
    "  - [Orthogonal Projections and Their Applications](https://python-programming.quantecon.org/orth_proj.html)\n",
    "  - [Continuous State Markov Chains](https://python-programming.quantecon.org/stationary_densities.html)\n",
    "  - [Reverse Engineering a la Muth](https://python-programming.quantecon.org/muth_kalman.html)\n",
    "  - [Discrete State Dynamic Programming](https://python-programming.quantecon.org/discrete_dp.html)\n",
    "- [LQ Control](https://python-programming.quantecon.org/index_lq_control.html)\n",
    "  - [Information and Consumption Smoothing](https://python-programming.quantecon.org/cons_news.html)\n",
    "  - [Consumption Smoothing with Complete and Incomplete Markets](https://python-programming.quantecon.org/smoothing.html)\n",
    "  - [Tax Smoothing with Complete and Incomplete Markets](https://python-programming.quantecon.org/smoothing_tax.html)\n",
    "  - [Robustness](https://python-programming.quantecon.org/robustness.html)\n",
    "  - [Markov Jump Linear Quadratic Dynamic Programming](https://python-programming.quantecon.org/markov_jump_lq.html)\n",
    "  - [How to Pay for a War: Part 1](https://python-programming.quantecon.org/tax_smoothing_1.html)\n",
    "  - [How to Pay for a War: Part 2](https://python-programming.quantecon.org/tax_smoothing_2.html)\n",
    "  - [How to Pay for a War: Part 3](https://python-programming.quantecon.org/tax_smoothing_3.html)\n",
    "  - [Optimal Taxation in an LQ Economy](https://python-programming.quantecon.org/lqramsey.html)\n",
    "- [Multiple Agent Models](https://python-programming.quantecon.org/index_multi_agent_models.html)\n",
    "  - [Robust Markov Perfect Equilibrium](https://python-programming.quantecon.org/rob_markov_perf.html)\n",
    "  - [Default Risk and Income Fluctuations](https://python-programming.quantecon.org/arellano.html)\n",
    "  - [Globalization and Cycles](https://python-programming.quantecon.org/matsuyama.html)\n",
    "  - [Coase’s Theory of the Firm](https://python-programming.quantecon.org/coase.html)\n",
    "- [Dynamic Linear Economies](https://python-programming.quantecon.org/index_hs_recursive_models.html)\n",
    "  - [Recursive Models of Dynamic Linear Economies](https://python-programming.quantecon.org/hs_recursive_models.html)\n",
    "  - [Growth in Dynamic Linear Economies](https://python-programming.quantecon.org/growth_in_dles.html)\n",
    "  - [Lucas Asset Pricing Using DLE](https://python-programming.quantecon.org/lucas_asset_pricing_dles.html)\n",
    "  - [IRFs in Hall Models](https://python-programming.quantecon.org/irfs_in_hall_model.html)\n",
    "  - [Permanent Income Model using the DLE Class](https://python-programming.quantecon.org/permanent_income_dles.html)\n",
    "  - [Rosen Schooling Model](https://python-programming.quantecon.org/rosen_schooling_model.html)\n",
    "  - [Cattle Cycles](https://python-programming.quantecon.org/cattle_cycles.html)\n",
    "  - [Shock Non Invertibility](https://python-programming.quantecon.org/hs_invertibility_example.html)\n",
    "- [Classic Linear Models](https://python-programming.quantecon.org/index_classic_linear_models.html)\n",
    "  - [Von Neumann Growth Model (and a Generalization)](https://python-programming.quantecon.org/von_neumann_model.html)\n",
    "- [Time Series Models](https://python-programming.quantecon.org/index_time_series_models.html)\n",
    "  - [Covariance Stationary Processes](https://python-programming.quantecon.org/arma.html)\n",
    "  - [Estimation of Spectra](https://python-programming.quantecon.org/estspec.html)\n",
    "  - [Additive and Multiplicative Functionals](https://python-programming.quantecon.org/additive_functionals.html)\n",
    "  - [Classical Control with Linear Algebra](https://python-programming.quantecon.org/lu_tricks.html)\n",
    "  - [Classical Prediction and Filtering With Linear Algebra](https://python-programming.quantecon.org/classical_filtering.html)\n",
    "- [Asset Pricing and Finance](https://python-programming.quantecon.org/index_asset_pricing.html)\n",
    "  - [Asset Pricing II: The Lucas Asset Pricing Model](https://python-programming.quantecon.org/lucas_model.html)\n",
    "  - [Two Modifications of Mean-Variance Portfolio Theory](https://python-programming.quantecon.org/black_litterman.html)\n",
    "  - [Irrelevance of Capital Structures with Complete Markets](https://python-programming.quantecon.org/BCG_complete_mkts.html)\n",
    "  - [Equilibrium Capital Structures with Incomplete Markets](https://python-programming.quantecon.org/BCG_incomplete_mkts.html)\n",
    "- [Dynamic Programming Squared](https://python-programming.quantecon.org/index_dynamic_programming_squared.html)\n",
    "  - [Stackelberg Plans](https://python-programming.quantecon.org/dyn_stack.html)\n",
    "  - [Ramsey Plans, Time Inconsistency, Sustainable Plans](https://python-programming.quantecon.org/calvo.html)\n",
    "  - [Optimal Taxation with State-Contingent Debt](https://python-programming.quantecon.org/opt_tax_recur.html)\n",
    "  - [Optimal Taxation without State-Contingent Debt](https://python-programming.quantecon.org/amss.html)\n",
    "  - [Fluctuating Interest Rates Deliver Fiscal Insurance](https://python-programming.quantecon.org/amss2.html)\n",
    "  - [Fiscal Risk and Government Debt](https://python-programming.quantecon.org/amss3.html)\n",
    "  - [Competitive Equilibria of a Model of Chang](https://python-programming.quantecon.org/chang_ramsey.html)\n",
    "  - [Credible Government Policies in a Model of Chang](https://python-programming.quantecon.org/chang_credible.html)\n",
    "- [References](https://python-programming.quantecon.org/zreferences.html)\n",
    "\n",
    "\n",
    "<img src=\"http://assets.quantecon.org/img/banner.png\" style=\"width:30%;height:30%\" align=\"center\">"
   ]
  }
 ],
 "metadata": {
  "date": 1604621126.0471902,
  "filename": "index_toc.rst",
  "kernelspec": {
   "display_name": "Python",
   "language": "python3",
   "name": "python3"
  },
  "next_doc": {
   "link": "about_lectures",
   "title": "About these Lectures"
  },
  "prev_doc": {
   "link": "index",
   "title": "Advanced Quantitative Economics with Python"
  },
  "title": "Table of Contents"
 },
 "nbformat": 4,
 "nbformat_minor": 2
}