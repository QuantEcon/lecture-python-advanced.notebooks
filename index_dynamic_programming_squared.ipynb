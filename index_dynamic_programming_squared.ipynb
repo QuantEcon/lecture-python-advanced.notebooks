{
 "cells": [
  {
   "cell_type": "markdown",
   "metadata": {},
   "source": [
    "\n",
    "<a id='topics-in-economic-dynamics'></a>\n",
    "<div id=\"qe-notebook-header\" align=\"right\" style=\"text-align:right;\">\n",
    "        <a href=\"https://quantecon.org/\" title=\"quantecon.org\">\n",
    "                <img style=\"width:250px;display:inline;\" width=\"250px\" src=\"https://assets.quantecon.org/img/qe-menubar-logo.svg\" alt=\"QuantEcon\">\n",
    "        </a>\n",
    "</div>"
   ]
  },
  {
   "cell_type": "markdown",
   "metadata": {},
   "source": [
    "# Dynamic Programming Squared\n",
    "\n",
    "Here we look at models in which a value function for one Bellman equation has as an argument the value function for another Bellman equation"
   ]
  },
  {
   "cell_type": "markdown",
   "metadata": {},
   "source": [
    "## Lectures\n",
    "\n",
    "- [Stackelberg Plans](https://python-programming.quantecon.org/dyn_stack.html)\n",
    "  - [Overview](https://python-programming.quantecon.org/dyn_stack.html#overview)\n",
    "  - [Duopoly](https://python-programming.quantecon.org/dyn_stack.html#duopoly)\n",
    "  - [The Stackelberg Problem](https://python-programming.quantecon.org/dyn_stack.html#the-stackelberg-problem)\n",
    "  - [Stackelberg Plan](https://python-programming.quantecon.org/dyn_stack.html#stackelberg-plan)\n",
    "  - [Recursive Representation of Stackelberg Plan](https://python-programming.quantecon.org/dyn_stack.html#recursive-representation-of-stackelberg-plan)\n",
    "  - [Computing the Stackelberg Plan](https://python-programming.quantecon.org/dyn_stack.html#computing-the-stackelberg-plan)\n",
    "  - [Exhibiting Time Inconsistency of Stackelberg Plan](https://python-programming.quantecon.org/dyn_stack.html#exhibiting-time-inconsistency-of-stackelberg-plan)\n",
    "  - [Recursive Formulation of the Follower’s Problem](https://python-programming.quantecon.org/dyn_stack.html#recursive-formulation-of-the-follower-s-problem)\n",
    "  - [Markov Perfect Equilibrium](https://python-programming.quantecon.org/dyn_stack.html#markov-perfect-equilibrium)\n",
    "  - [MPE vs. Stackelberg](https://python-programming.quantecon.org/dyn_stack.html#mpe-vs-stackelberg)\n",
    "- [Ramsey Plans, Time Inconsistency, Sustainable Plans](https://python-programming.quantecon.org/calvo.html)\n",
    "  - [Overview](https://python-programming.quantecon.org/calvo.html#overview)\n",
    "  - [The Model](https://python-programming.quantecon.org/calvo.html#the-model)\n",
    "  - [Structure](https://python-programming.quantecon.org/calvo.html#structure)\n",
    "  - [Intertemporal Influences](https://python-programming.quantecon.org/calvo.html#intertemporal-influences)\n",
    "  - [Four Models of Government Policy](https://python-programming.quantecon.org/calvo.html#four-models-of-government-policy)\n",
    "  - [A Ramsey Planner](https://python-programming.quantecon.org/calvo.html#a-ramsey-planner)\n",
    "  - [A Constrained-to-a-Constant-Growth-Rate Ramsey Government](https://python-programming.quantecon.org/calvo.html#a-constrained-to-a-constant-growth-rate-ramsey-government)\n",
    "  - [Markov Perfect Governments](https://python-programming.quantecon.org/calvo.html#markov-perfect-governments)\n",
    "  - [Equilibrium Outcomes for Three Models of Government Policy Making](https://python-programming.quantecon.org/calvo.html#equilibrium-outcomes-for-three-models-of-government-policy-making)\n",
    "  - [A Fourth Model of Government Decision Making](https://python-programming.quantecon.org/calvo.html#a-fourth-model-of-government-decision-making)\n",
    "  - [Sustainable or Credible Plan](https://python-programming.quantecon.org/calvo.html#sustainable-or-credible-plan)\n",
    "  - [Whose Credible Plan is it?](https://python-programming.quantecon.org/calvo.html#whose-credible-plan-is-it)\n",
    "  - [Comparison of Equilibrium Values](https://python-programming.quantecon.org/calvo.html#comparison-of-equilibrium-values)\n",
    "  - [Note on Dynamic Programming Squared](https://python-programming.quantecon.org/calvo.html#note-on-dynamic-programming-squared)\n",
    "- [Optimal Taxation with State-Contingent Debt](https://python-programming.quantecon.org/opt_tax_recur.html)\n",
    "  - [Overview](https://python-programming.quantecon.org/opt_tax_recur.html#overview)\n",
    "  - [A Competitive Equilibrium with Distorting Taxes](https://python-programming.quantecon.org/opt_tax_recur.html#a-competitive-equilibrium-with-distorting-taxes)\n",
    "  - [Recursive Formulation of the Ramsey Problem](https://python-programming.quantecon.org/opt_tax_recur.html#recursive-formulation-of-the-ramsey-problem)\n",
    "  - [Examples](https://python-programming.quantecon.org/opt_tax_recur.html#examples)\n",
    "- [Optimal Taxation without State-Contingent Debt](https://python-programming.quantecon.org/amss.html)\n",
    "  - [Overview](https://python-programming.quantecon.org/amss.html#overview)\n",
    "  - [Competitive Equilibrium with Distorting Taxes](https://python-programming.quantecon.org/amss.html#competitive-equilibrium-with-distorting-taxes)\n",
    "  - [Recursive Version of AMSS Model](https://python-programming.quantecon.org/amss.html#recursive-version-of-amss-model)\n",
    "  - [Examples](https://python-programming.quantecon.org/amss.html#examples)\n",
    "- [Fluctuating Interest Rates Deliver Fiscal Insurance](https://python-programming.quantecon.org/amss2.html)\n",
    "  - [Overview](https://python-programming.quantecon.org/amss2.html#overview)\n",
    "  - [Forces at Work](https://python-programming.quantecon.org/amss2.html#forces-at-work)\n",
    "  - [Logical Flow of Lecture](https://python-programming.quantecon.org/amss2.html#logical-flow-of-lecture)\n",
    "  - [Example Economy](https://python-programming.quantecon.org/amss2.html#example-economy)\n",
    "  - [Reverse Engineering Strategy](https://python-programming.quantecon.org/amss2.html#reverse-engineering-strategy)\n",
    "  - [Code for Reverse Engineering](https://python-programming.quantecon.org/amss2.html#code-for-reverse-engineering)\n",
    "  - [Short Simulation for Reverse-engineered: Initial Debt](https://python-programming.quantecon.org/amss2.html#short-simulation-for-reverse-engineered-initial-debt)\n",
    "  - [Long Simulation](https://python-programming.quantecon.org/amss2.html#long-simulation)\n",
    "  - [BEGS Approximations of Limiting Debt and Convergence Rate](https://python-programming.quantecon.org/amss2.html#begs-approximations-of-limiting-debt-and-convergence-rate)\n",
    "- [Fiscal Risk and Government Debt](https://python-programming.quantecon.org/amss3.html)\n",
    "  - [Overview](https://python-programming.quantecon.org/amss3.html#overview)\n",
    "  - [The Economy](https://python-programming.quantecon.org/amss3.html#the-economy)\n",
    "  - [Long Simulation](https://python-programming.quantecon.org/amss3.html#long-simulation)\n",
    "  - [Asymptotic Mean and Rate of Convergence](https://python-programming.quantecon.org/amss3.html#asymptotic-mean-and-rate-of-convergence)\n",
    "- [Competitive Equilibria of a Model of Chang](https://python-programming.quantecon.org/chang_ramsey.html)\n",
    "  - [Overview](https://python-programming.quantecon.org/chang_ramsey.html#overview)\n",
    "  - [Setting](https://python-programming.quantecon.org/chang_ramsey.html#setting)\n",
    "  - [Competitive Equilibrium](https://python-programming.quantecon.org/chang_ramsey.html#competitive-equilibrium)\n",
    "  - [Inventory of Objects in Play](https://python-programming.quantecon.org/chang_ramsey.html#inventory-of-objects-in-play)\n",
    "  - [Analysis](https://python-programming.quantecon.org/chang_ramsey.html#analysis)\n",
    "  - [Calculating all Promise-Value Pairs in CE](https://python-programming.quantecon.org/chang_ramsey.html#calculating-all-promise-value-pairs-in-ce)\n",
    "  - [Solving a Continuation Ramsey Planner’s Bellman Equation](https://python-programming.quantecon.org/chang_ramsey.html#solving-a-continuation-ramsey-planner-s-bellman-equation)\n",
    "- [Credible Government Policies in a Model of Chang](https://python-programming.quantecon.org/chang_credible.html)\n",
    "  - [Overview](https://python-programming.quantecon.org/chang_credible.html#overview)\n",
    "  - [The Setting](https://python-programming.quantecon.org/chang_credible.html#the-setting)\n",
    "  - [Calculating the Set of Sustainable Promise-Value Pairs](https://python-programming.quantecon.org/chang_credible.html#calculating-the-set-of-sustainable-promise-value-pairs)"
   ]
  }
 ],
 "metadata": {
  "date": 1604621125.64923,
  "filename": "index_dynamic_programming_squared.rst",
  "kernelspec": {
   "display_name": "Python",
   "language": "python3",
   "name": "python3"
  },
  "next_doc": {
   "link": "dyn_stack",
   "title": "Stackelberg Plans"
  },
  "prev_doc": {
   "link": "BCG_incomplete_mkts",
   "title": "Equilibrium Capital Structures with Incomplete Markets"
  },
  "title": "Dynamic Programming Squared"
 },
 "nbformat": 4,
 "nbformat_minor": 2
}